{
 "cells": [
  {
   "cell_type": "code",
   "execution_count": 50,
   "metadata": {},
   "outputs": [],
   "source": [
    "import tensorflow as tf\n",
    "import numpy as np\n",
    "import matplotlib.pyplot as plt\n",
    "import random"
   ]
  },
  {
   "cell_type": "code",
   "execution_count": 51,
   "metadata": {},
   "outputs": [],
   "source": [
    "from tensorflow.examples.tutorials.mnist import input_data"
   ]
  },
  {
   "cell_type": "code",
   "execution_count": 52,
   "metadata": {},
   "outputs": [],
   "source": [
    "nb_classes = 10\n",
    "Width = 100\n",
    "X = tf.placeholder(tf.float32,[None,784])\n",
    "Y = tf.placeholder(tf.float32,[None,nb_classes])\n",
    "\n",
    "\n",
    "with tf.name_scope('layer1') as scope:\n",
    "    W1 = tf.Variable(tf.random_normal([784,Width]))\n",
    "    b1 = tf.Variable(tf.random_normal([Width]))\n",
    "    layer1 =  tf.sigmoid(tf.matmul(X,W1)+b1)\n",
    "    \n",
    "    W1_hist = tf.summary.histogram('weight1',W1)\n",
    "    b1_hist = tf.summary.histogram('biases1',b1)\n",
    "    layer1_hist = tf.summary.histogram('layer1',layer1)\n",
    "\n",
    "with tf.name_scope('layer2') as scope:\n",
    "    W2 = tf.Variable(tf.random_normal([Width,nb_classes]))\n",
    "    b2 = tf.Variable(tf.random_normal([nb_classes]))\n",
    "    hypothesis = tf.nn.softmax(tf.matmul(layer1,W2)+b2)\n",
    "    #hypothesis = tf.sigmoid(tf.matmul(layer1,W2)+b2)\n",
    "    W2_hist = tf.summary.histogram('weights2',W2)\n",
    "    b2_hist = tf.summary.histogram('biases2',b2)\n",
    "    hypothesis_hist = tf.summary.histogram('hypothesis',hypothesis)\n"
   ]
  },
  {
   "cell_type": "code",
   "execution_count": 53,
   "metadata": {},
   "outputs": [],
   "source": [
    "with tf.name_scope('cost'):\n",
    "    cost = tf.reduce_mean(-tf.reduce_sum(Y*tf.log(hypothesis),axis = 1))\n",
    "    tf.summary.scalar('cost',cost)"
   ]
  },
  {
   "cell_type": "code",
   "execution_count": 54,
   "metadata": {},
   "outputs": [],
   "source": [
    "with tf.name_scope('optimizer'):\n",
    "    \n",
    "    optimizer = tf.train.GradientDescentOptimizer(learning_rate = 0.1).minimize(cost)"
   ]
  },
  {
   "cell_type": "code",
   "execution_count": 55,
   "metadata": {},
   "outputs": [
    {
     "data": {
      "text/plain": [
       "<tf.Tensor 'accuracy_2:0' shape=() dtype=string>"
      ]
     },
     "execution_count": 55,
     "metadata": {},
     "output_type": "execute_result"
    }
   ],
   "source": [
    "is_correct = tf.equal(tf.arg_max(hypothesis,1),tf.arg_max(Y,1))\n",
    "accuracy = tf.reduce_mean(tf.cast(is_correct,tf.float32))\n",
    "tf.summary.scalar('accuracy',accuracy)"
   ]
  },
  {
   "cell_type": "code",
   "execution_count": 56,
   "metadata": {},
   "outputs": [
    {
     "name": "stdout",
     "output_type": "stream",
     "text": [
      "Extracting MNIST_data/train-images-idx3-ubyte.gz\n",
      "Extracting MNIST_data/train-labels-idx1-ubyte.gz\n",
      "Extracting MNIST_data/t10k-images-idx3-ubyte.gz\n",
      "Extracting MNIST_data/t10k-labels-idx1-ubyte.gz\n"
     ]
    }
   ],
   "source": [
    "mnist = input_data.read_data_sets('MNIST_data/',one_hot = True)"
   ]
  },
  {
   "cell_type": "code",
   "execution_count": 57,
   "metadata": {},
   "outputs": [],
   "source": [
    "batch_xs,batch_ys = mnist.train.next_batch(100)"
   ]
  },
  {
   "cell_type": "code",
   "execution_count": 58,
   "metadata": {},
   "outputs": [],
   "source": [
    "training_epochs= 15\n",
    "batch_size = 100"
   ]
  },
  {
   "cell_type": "code",
   "execution_count": 60,
   "metadata": {},
   "outputs": [
    {
     "name": "stdout",
     "output_type": "stream",
     "text": [
      "Epoch: 0001 cost =  1.918705357\n",
      "Epoch: 0002 cost =  0.799430994\n",
      "Epoch: 0003 cost =  0.634101293\n",
      "Epoch: 0004 cost =  0.552135289\n",
      "Epoch: 0005 cost =  0.499057450\n",
      "Epoch: 0006 cost =  0.461103631\n",
      "Epoch: 0007 cost =  0.432837981\n",
      "Epoch: 0008 cost =  0.410359213\n",
      "Epoch: 0009 cost =  0.390389525\n",
      "Epoch: 0010 cost =  0.375273580\n",
      "Epoch: 0011 cost =  0.360470475\n",
      "Epoch: 0012 cost =  0.348451865\n",
      "Epoch: 0013 cost =  0.337459608\n",
      "Epoch: 0014 cost =  0.327977075\n",
      "Epoch: 0015 cost =  0.319184725\n",
      "label: [4]\n",
      "prediction: [9]\n"
     ]
    },
    {
     "data": {
      "image/png": "[encoded data removed]",
      "text/plain": [
       "<matplotlib.figure.Figure at 0x286a9673f98>"
      ]
     },
     "metadata": {
      "needs_background": "light"
     },
     "output_type": "display_data"
    }
   ],
   "source": [
    "with tf.Session() as sess:\n",
    "    \n",
    "    merged_summary = tf.summary.merge_all()\n",
    "    writer = tf.summary.FileWriter('logs/xor_logs_r0_01')\n",
    "    writer.add_graph(sess.graph)\n",
    "    sess.run(tf.global_variables_initializer())\n",
    "    for epoch in range(training_epochs):\n",
    "        avg_cost = 0\n",
    "        total_batch = int(mnist.train.num_examples/batch_size)\n",
    "        \n",
    "        for i in range(total_batch):\n",
    "            batch_xs,batch_ys = mnist.train.next_batch(batch_size)\n",
    "            c, _ = sess.run([cost,optimizer],feed_dict = {X:batch_xs,Y:batch_ys})\n",
    "            #c,summary, _ = sess.run([cost,merged_summary,optimizer],feed_dict = {X:batch_xs,Y:batch_ys})\n",
    "            avg_cost +=c/total_batch\n",
    "           # writer.add_summary(summary,global_step = i)\n",
    "            \n",
    "        print('Epoch:', '%04d' %(epoch +1), 'cost = ', '{:.9f}'.format(avg_cost))\n",
    "        \n",
    "    r = random.randint(0,mnist.test.num_examples -1)\n",
    "    print('label:',sess.run(tf.argmax(mnist.test.labels[r:r+1],1)))\n",
    "    print('prediction:', sess.run(tf.argmax(hypothesis,1),feed_dict = {X:mnist.test.images[r:r+1]}))\n",
    "    plt.imshow(mnist.test.images[r:r+1].reshape(28,28),cmap = 'Greys', interpolation = 'nearest')\n",
    "    plt.show()"
   ]
  },
  {
   "cell_type": "code",
   "execution_count": null,
   "metadata": {},
   "outputs": [],
   "source": []
  }
 ],
 "metadata": {
  "kernelspec": {
   "display_name": "Python 3",
   "language": "python",
   "name": "python3"
  },
  "language_info": {
   "codemirror_mode": {
    "name": "ipython",
    "version": 3
   },
   "file_extension": ".py",
   "mimetype": "text/x-python",
   "name": "python",
   "nbconvert_exporter": "python",
   "pygments_lexer": "ipython3",
   "version": "3.5.2"
  },
  "widgets": {
   "state": {},
   "version": "1.1.2"
  }
 },
 "nbformat": 4,
 "nbformat_minor": 2
}

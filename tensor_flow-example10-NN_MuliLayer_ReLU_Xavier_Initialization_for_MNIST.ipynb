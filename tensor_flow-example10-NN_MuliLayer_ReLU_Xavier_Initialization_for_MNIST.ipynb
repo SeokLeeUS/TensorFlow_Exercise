{
 "cells": [
  {
   "cell_type": "code",
   "execution_count": 1,
   "metadata": {},
   "outputs": [],
   "source": [
    "# lecture 10 slide 8 multi percentron\n",
    "import tensorflow as tf\n",
    "import numpy as np\n",
    "import random\n",
    "import matplotlib.pyplot as plt"
   ]
  },
  {
   "cell_type": "code",
   "execution_count": 2,
   "metadata": {},
   "outputs": [
    {
     "name": "stdout",
     "output_type": "stream",
     "text": [
      "Extracting MNIST_data/train-images-idx3-ubyte.gz\n",
      "Extracting MNIST_data/train-labels-idx1-ubyte.gz\n",
      "Extracting MNIST_data/t10k-images-idx3-ubyte.gz\n",
      "Extracting MNIST_data/t10k-labels-idx1-ubyte.gz\n"
     ]
    }
   ],
   "source": [
    "from tensorflow.examples.tutorials.mnist import input_data\n",
    "# reproduceability\n",
    "tf.set_random_seed(777)\n",
    "mnist = input_data.read_data_sets('MNIST_data/',one_hot = True)\n"
   ]
  },
  {
   "cell_type": "code",
   "execution_count": 3,
   "metadata": {},
   "outputs": [],
   "source": [
    "# input placeholder\n",
    "X = tf.placeholder(tf.float32, [None,784])\n",
    "Y = tf.placeholder(tf.float32,[None,10])"
   ]
  },
  {
   "cell_type": "code",
   "execution_count": 4,
   "metadata": {},
   "outputs": [],
   "source": [
    "#tf.get_variable\n",
    "W1 = tf.get_variable('W1',shape =[784,256],\n",
    "                                 initializer = tf.contrib.layers.xavier_initializer())\n",
    "b1 = tf.Variable(tf.random_normal([256]))\n",
    "L1 = tf.nn.relu(tf.matmul(X,W1)+b1)"
   ]
  },
  {
   "cell_type": "code",
   "execution_count": 5,
   "metadata": {},
   "outputs": [],
   "source": [
    "W2 = tf.get_variable('W2',shape = [256,256],\n",
    "                     initializer = tf.contrib.layers.xavier_initializer())\n",
    "b2 = tf.Variable(tf.random_normal([256]))\n",
    "L2 = tf.nn.relu(tf.matmul(L1,W2)+b2)"
   ]
  },
  {
   "cell_type": "code",
   "execution_count": 6,
   "metadata": {},
   "outputs": [],
   "source": [
    "W3 = tf.get_variable('W3', shape = [256,10],\n",
    "                    initializer = tf.contrib.layers.xavier_initializer())\n",
    "b3 = tf.Variable(tf.random_normal([10]))\n",
    "hypothesis = tf.matmul(L2,W3) + b3"
   ]
  },
  {
   "cell_type": "code",
   "execution_count": 7,
   "metadata": {},
   "outputs": [],
   "source": [
    "# define parameters\n",
    "\n",
    "learning_rate = 0.001\n",
    "batch_size = 100\n",
    "num_epochs = 50\n",
    "num_iterations = int(mnist.train.num_examples/batch_size)"
   ]
  },
  {
   "cell_type": "code",
   "execution_count": 8,
   "metadata": {},
   "outputs": [],
   "source": [
    "# define cost/loss & optimizer"
   ]
  },
  {
   "cell_type": "code",
   "execution_count": 9,
   "metadata": {},
   "outputs": [],
   "source": [
    "cost = tf.reduce_mean(tf.nn.softmax_cross_entropy_with_logits(logits=hypothesis, labels =Y))\n",
    "train = tf.train.AdamOptimizer(learning_rate = learning_rate).minimize(cost)"
   ]
  },
  {
   "cell_type": "code",
   "execution_count": 10,
   "metadata": {},
   "outputs": [],
   "source": [
    "## practice of parenthesis, ignore the duplication\n",
    "cost = tf.reduce_mean(\n",
    "        tf.nn.softmax_cross_entropy_with_logits(\n",
    "            logits = hypothesis, labels = tf.stop_gradient(Y)\n",
    "    )\n",
    ")"
   ]
  },
  {
   "cell_type": "code",
   "execution_count": 11,
   "metadata": {},
   "outputs": [],
   "source": [
    "correct_prediction = tf.equal(tf.argmax(hypothesis,axis = 1), tf.argmax(Y, axis = 1))"
   ]
  },
  {
   "cell_type": "code",
   "execution_count": 12,
   "metadata": {},
   "outputs": [],
   "source": [
    "accuracy = tf.reduce_mean(tf.cast(correct_prediction,tf.float32))"
   ]
  },
  {
   "cell_type": "code",
   "execution_count": 13,
   "metadata": {},
   "outputs": [
    {
     "name": "stdout",
     "output_type": "stream",
     "text": [
      "Epoch: 0001 cost = 0.324790400\n",
      "Epoch: 0002 cost = 0.116782509\n",
      "Epoch: 0003 cost = 0.077066399\n",
      "Epoch: 0004 cost = 0.054720485\n",
      "Epoch: 0005 cost = 0.041151248\n",
      "Epoch: 0006 cost = 0.032021693\n",
      "Epoch: 0007 cost = 0.023561912\n",
      "Epoch: 0008 cost = 0.019129242\n",
      "Epoch: 0009 cost = 0.016345287\n",
      "Epoch: 0010 cost = 0.017286147\n",
      "Epoch: 0011 cost = 0.011435987\n",
      "Epoch: 0012 cost = 0.012268452\n",
      "Epoch: 0013 cost = 0.009363391\n",
      "Epoch: 0014 cost = 0.009429555\n",
      "Epoch: 0015 cost = 0.009476044\n",
      "Epoch: 0016 cost = 0.008083585\n",
      "Epoch: 0017 cost = 0.009354948\n",
      "Epoch: 0018 cost = 0.006453287\n",
      "Epoch: 0019 cost = 0.007072513\n",
      "Epoch: 0020 cost = 0.010019312\n",
      "Epoch: 0021 cost = 0.005829419\n",
      "Epoch: 0022 cost = 0.003198565\n",
      "Epoch: 0023 cost = 0.010209583\n",
      "Epoch: 0024 cost = 0.006612479\n",
      "Epoch: 0025 cost = 0.004356579\n",
      "Epoch: 0026 cost = 0.005003058\n",
      "Epoch: 0027 cost = 0.007895843\n",
      "Epoch: 0028 cost = 0.002410931\n",
      "Epoch: 0029 cost = 0.004057266\n",
      "Epoch: 0030 cost = 0.009490052\n",
      "Epoch: 0031 cost = 0.005799032\n",
      "Epoch: 0032 cost = 0.001971057\n",
      "Epoch: 0033 cost = 0.005496662\n",
      "Epoch: 0034 cost = 0.008181837\n",
      "Epoch: 0035 cost = 0.005292295\n",
      "Epoch: 0036 cost = 0.001177874\n",
      "Epoch: 0037 cost = 0.000128952\n",
      "Epoch: 0038 cost = 0.000027108\n",
      "Epoch: 0039 cost = 0.000017437\n",
      "Epoch: 0040 cost = 0.000013507\n",
      "Epoch: 0041 cost = 0.000010735\n",
      "Epoch: 0042 cost = 0.000008545\n",
      "Epoch: 0043 cost = 0.000006888\n",
      "Epoch: 0044 cost = 0.000005475\n",
      "Epoch: 0045 cost = 0.000004362\n",
      "Epoch: 0046 cost = 0.000003428\n",
      "Epoch: 0047 cost = 0.000002734\n",
      "Epoch: 0048 cost = 0.000002150\n",
      "Epoch: 0049 cost = 0.000001687\n",
      "Epoch: 0050 cost = 0.000001303\n",
      "learning finished\n",
      "accuracy 0.9834\n",
      "label: [7]\n",
      "prediction: [7]\n"
     ]
    },
    {
     "data": {
      "image/png": "[encoded data removed]",
      "text/plain": [
       "<matplotlib.figure.Figure at 0x23fb53ad1d0>"
      ]
     },
     "metadata": {
      "needs_background": "light"
     },
     "output_type": "display_data"
    }
   ],
   "source": [
    "with tf.Session() as sess:\n",
    "    sess.run(tf.global_variables_initializer())\n",
    "    \n",
    "    for epoch in range(num_epochs):\n",
    "        avg_cost = 0\n",
    "        \n",
    "        for iteration in range(num_iterations):\n",
    "            batch_xs,batch_ys = mnist.train.next_batch(batch_size)\n",
    "            _,cost_val = sess.run([train,cost],feed_dict = {X:batch_xs,Y:batch_ys})\n",
    "            avg_cost += cost_val/num_iterations\n",
    "        print('Epoch:','%04d' % (epoch +1), 'cost =', '{:.9f}'.format(avg_cost))\n",
    "    print('learning finished')\n",
    "    print(\n",
    "        'accuracy',sess.run(accuracy,feed_dict = {X:mnist.test.images,Y:mnist.test.labels}))\n",
    "    r = random.randint(0,mnist.test.num_examples -1)\n",
    "    print('label:',sess.run(tf.argmax(mnist.test.labels[r:r+1],axis = 1)))\n",
    "    print(\n",
    "    'prediction:',sess.run(tf.argmax(hypothesis,axis =1),feed_dict = {X:mnist.test.images[r:r+1]}))\n",
    "    plt.imshow(mnist.test.images[r:r+1].reshape(28,28),cmap ='Greys',interpolation='nearest')\n",
    "    plt.show()"
   ]
  },
  {
   "cell_type": "code",
   "execution_count": null,
   "metadata": {
    "collapsed": true
   },
   "outputs": [],
   "source": []
  }
 ],
 "metadata": {
  "kernelspec": {
   "display_name": "Python 3",
   "language": "python",
   "name": "python3"
  },
  "language_info": {
   "codemirror_mode": {
    "name": "ipython",
    "version": 3
   },
   "file_extension": ".py",
   "mimetype": "text/x-python",
   "name": "python",
   "nbconvert_exporter": "python",
   "pygments_lexer": "ipython3",
   "version": "3.5.2"
  },
  "widgets": {
   "state": {},
   "version": "1.1.2"
  }
 },
 "nbformat": 4,
 "nbformat_minor": 2
}

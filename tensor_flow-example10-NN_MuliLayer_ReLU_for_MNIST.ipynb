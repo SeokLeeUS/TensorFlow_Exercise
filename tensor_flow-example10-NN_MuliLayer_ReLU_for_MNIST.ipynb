{
 "cells": [
  {
   "cell_type": "code",
   "execution_count": 1,
   "metadata": {
    "collapsed": true
   },
   "outputs": [],
   "source": [
    "# lecture 10 slide 8 multi percentron\n",
    "import tensorflow as tf\n",
    "import numpy as np\n",
    "import random\n",
    "import matplotlib.pyplot as plt"
   ]
  },
  {
   "cell_type": "code",
   "execution_count": 2,
   "metadata": {
    "collapsed": false
   },
   "outputs": [
    {
     "name": "stdout",
     "output_type": "stream",
     "text": [
      "Extracting MNIST_data/train-images-idx3-ubyte.gz\n",
      "Extracting MNIST_data/train-labels-idx1-ubyte.gz\n",
      "Extracting MNIST_data/t10k-images-idx3-ubyte.gz\n",
      "Extracting MNIST_data/t10k-labels-idx1-ubyte.gz\n"
     ]
    }
   ],
   "source": [
    "from tensorflow.examples.tutorials.mnist import input_data\n",
    "# reproduceability\n",
    "tf.set_random_seed(777)\n",
    "mnist = input_data.read_data_sets('MNIST_data/',one_hot = True)\n"
   ]
  },
  {
   "cell_type": "code",
   "execution_count": 3,
   "metadata": {
    "collapsed": true
   },
   "outputs": [],
   "source": [
    "# input placeholder\n",
    "X = tf.placeholder(tf.float32, [None,784])\n",
    "Y = tf.placeholder(tf.float32,[None,10])"
   ]
  },
  {
   "cell_type": "code",
   "execution_count": 7,
   "metadata": {
    "collapsed": false
   },
   "outputs": [],
   "source": [
    "W1 = tf.Variable(tf.random_normal([784,256]))\n",
    "b1 = tf.Variable(tf.random_normal([256]))\n",
    "L1 = tf.nn.relu(tf.matmul(X,W1)+b1)"
   ]
  },
  {
   "cell_type": "code",
   "execution_count": 8,
   "metadata": {
    "collapsed": true
   },
   "outputs": [],
   "source": [
    "W2 = tf.Variable(tf.random_normal([256,256]))\n",
    "b2 = tf.Variable(tf.random_normal([256]))\n",
    "L2 = tf.nn.relu(tf.matmul(L1,W2)+b2)"
   ]
  },
  {
   "cell_type": "code",
   "execution_count": 9,
   "metadata": {
    "collapsed": true
   },
   "outputs": [],
   "source": [
    "W3 = tf.Variable(tf.random_normal([256,10]))\n",
    "b3 = tf.Variable(tf.random_normal([10]))\n",
    "hypothesis = tf.matmul(L2,W3) + b3"
   ]
  },
  {
   "cell_type": "code",
   "execution_count": 10,
   "metadata": {
    "collapsed": true
   },
   "outputs": [],
   "source": [
    "# define parameters\n",
    "\n",
    "learning_rate = 0.001\n",
    "batch_size = 100\n",
    "num_epochs = 50\n",
    "num_iterations = int(mnist.train.num_examples/batch_size)"
   ]
  },
  {
   "cell_type": "code",
   "execution_count": 11,
   "metadata": {
    "collapsed": true
   },
   "outputs": [],
   "source": [
    "# define cost/loss & optimizer"
   ]
  },
  {
   "cell_type": "code",
   "execution_count": 12,
   "metadata": {
    "collapsed": true
   },
   "outputs": [],
   "source": [
    "cost = tf.reduce_mean(tf.nn.softmax_cross_entropy_with_logits(logits=hypothesis, labels =Y))\n",
    "train = tf.train.AdamOptimizer(learning_rate = learning_rate).minimize(cost)"
   ]
  },
  {
   "cell_type": "code",
   "execution_count": 14,
   "metadata": {
    "collapsed": true
   },
   "outputs": [],
   "source": [
    "## practice of parenthesis, ignore the duplication\n",
    "cost = tf.reduce_mean(\n",
    "        tf.nn.softmax_cross_entropy_with_logits(\n",
    "            logits = hypothesis, labels = tf.stop_gradient(Y)\n",
    "    )\n",
    ")"
   ]
  },
  {
   "cell_type": "code",
   "execution_count": 15,
   "metadata": {
    "collapsed": true
   },
   "outputs": [],
   "source": [
    "correct_prediction = tf.equal(tf.argmax(hypothesis,axis = 1), tf.argmax(Y, axis = 1))"
   ]
  },
  {
   "cell_type": "code",
   "execution_count": 16,
   "metadata": {
    "collapsed": true
   },
   "outputs": [],
   "source": [
    "accuracy = tf.reduce_mean(tf.cast(correct_prediction,tf.float32))"
   ]
  },
  {
   "cell_type": "code",
   "execution_count": 17,
   "metadata": {
    "collapsed": false
   },
   "outputs": [
    {
     "name": "stdout",
     "output_type": "stream",
     "text": [
      "Epoch: 0001 cost = 146.340034791\n",
      "Epoch: 0002 cost = 40.348448249\n",
      "Epoch: 0003 cost = 25.150649744\n",
      "Epoch: 0004 cost = 17.455738304\n",
      "Epoch: 0005 cost = 12.725867290\n",
      "Epoch: 0006 cost = 9.511466433\n",
      "Epoch: 0007 cost = 6.992117741\n",
      "Epoch: 0008 cost = 5.208084120\n",
      "Epoch: 0009 cost = 3.948091924\n",
      "Epoch: 0010 cost = 2.851100621\n",
      "Epoch: 0011 cost = 2.156354343\n",
      "Epoch: 0012 cost = 1.585397734\n",
      "Epoch: 0013 cost = 1.311518272\n",
      "Epoch: 0014 cost = 0.939887215\n",
      "Epoch: 0015 cost = 0.834495311\n",
      "Epoch: 0016 cost = 0.719311535\n",
      "Epoch: 0017 cost = 0.567885827\n",
      "Epoch: 0018 cost = 0.546979975\n",
      "Epoch: 0019 cost = 0.405706598\n",
      "Epoch: 0020 cost = 0.398252375\n",
      "Epoch: 0021 cost = 0.416117028\n",
      "Epoch: 0022 cost = 0.398109063\n",
      "Epoch: 0023 cost = 0.382442921\n",
      "Epoch: 0024 cost = 0.327035692\n",
      "Epoch: 0025 cost = 0.255438967\n",
      "Epoch: 0026 cost = 0.231228901\n",
      "Epoch: 0027 cost = 0.310049550\n",
      "Epoch: 0028 cost = 0.333672634\n",
      "Epoch: 0029 cost = 0.244844238\n",
      "Epoch: 0030 cost = 0.208041327\n",
      "Epoch: 0031 cost = 0.331826734\n",
      "Epoch: 0032 cost = 0.206050653\n",
      "Epoch: 0033 cost = 0.212452697\n",
      "Epoch: 0034 cost = 0.238886545\n",
      "Epoch: 0035 cost = 0.218384611\n",
      "Epoch: 0036 cost = 0.169104490\n",
      "Epoch: 0037 cost = 0.235727805\n",
      "Epoch: 0038 cost = 0.192561468\n",
      "Epoch: 0039 cost = 0.185998609\n",
      "Epoch: 0040 cost = 0.183782900\n",
      "Epoch: 0041 cost = 0.199081239\n",
      "Epoch: 0042 cost = 0.146165118\n",
      "Epoch: 0043 cost = 0.156634300\n",
      "Epoch: 0044 cost = 0.189069894\n",
      "Epoch: 0045 cost = 0.195814105\n",
      "Epoch: 0046 cost = 0.133149497\n",
      "Epoch: 0047 cost = 0.226481580\n",
      "Epoch: 0048 cost = 0.186308926\n",
      "Epoch: 0049 cost = 0.171674303\n",
      "Epoch: 0050 cost = 0.134937698\n",
      "learning finished\n",
      "accuracy 0.9615\n",
      "label: [9]\n",
      "prediction: [9]\n"
     ]
    },
    {
     "data": {
      "image/png": "[encoded data removed]",
      "text/plain": [
       "<matplotlib.figure.Figure at 0x1b51e138f28>"
      ]
     },
     "metadata": {
      "needs_background": "light"
     },
     "output_type": "display_data"
    }
   ],
   "source": [
    "with tf.Session() as sess:\n",
    "    sess.run(tf.global_variables_initializer())\n",
    "    \n",
    "    for epoch in range(num_epochs):\n",
    "        avg_cost = 0\n",
    "        \n",
    "        for iteration in range(num_iterations):\n",
    "            batch_xs,batch_ys = mnist.train.next_batch(batch_size)\n",
    "            _,cost_val = sess.run([train,cost],feed_dict = {X:batch_xs,Y:batch_ys})\n",
    "            avg_cost += cost_val/num_iterations\n",
    "        print('Epoch:','%04d' % (epoch +1), 'cost =', '{:.9f}'.format(avg_cost))\n",
    "    print('learning finished')\n",
    "    print(\n",
    "        'accuracy',sess.run(accuracy,feed_dict = {X:mnist.test.images,Y:mnist.test.labels}))\n",
    "    r = random.randint(0,mnist.test.num_examples -1)\n",
    "    print('label:',sess.run(tf.argmax(mnist.test.labels[r:r+1],axis = 1)))\n",
    "    print(\n",
    "    'prediction:',sess.run(tf.argmax(hypothesis,axis =1),feed_dict = {X:mnist.test.images[r:r+1]}))\n",
    "    plt.imshow(mnist.test.images[r:r+1].reshape(28,28),cmap ='Greys',interpolation='nearest')\n",
    "    plt.show()"
   ]
  },
  {
   "cell_type": "code",
   "execution_count": null,
   "metadata": {
    "collapsed": true
   },
   "outputs": [],
   "source": []
  }
 ],
 "metadata": {
  "kernelspec": {
   "display_name": "Python 3",
   "language": "python",
   "name": "python3"
  },
  "language_info": {
   "codemirror_mode": {
    "name": "ipython",
    "version": 3
   },
   "file_extension": ".py",
   "mimetype": "text/x-python",
   "name": "python",
   "nbconvert_exporter": "python",
   "pygments_lexer": "ipython3",
   "version": "3.5.2"
  }
 },
 "nbformat": 4,
 "nbformat_minor": 2
}

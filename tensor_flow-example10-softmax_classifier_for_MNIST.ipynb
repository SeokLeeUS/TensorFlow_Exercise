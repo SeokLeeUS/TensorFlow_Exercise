{
 "cells": [
  {
   "cell_type": "code",
   "execution_count": 1,
   "metadata": {
    "collapsed": true
   },
   "outputs": [],
   "source": [
    "# lecture 10 slide 7\n",
    "import tensorflow as tf\n",
    "import numpy as np\n",
    "import random\n",
    "import matplotlib.pyplot as plt"
   ]
  },
  {
   "cell_type": "code",
   "execution_count": 2,
   "metadata": {
    "collapsed": false
   },
   "outputs": [
    {
     "name": "stdout",
     "output_type": "stream",
     "text": [
      "Extracting MNIST_data/train-images-idx3-ubyte.gz\n",
      "Extracting MNIST_data/train-labels-idx1-ubyte.gz\n",
      "Extracting MNIST_data/t10k-images-idx3-ubyte.gz\n",
      "Extracting MNIST_data/t10k-labels-idx1-ubyte.gz\n"
     ]
    }
   ],
   "source": [
    "from tensorflow.examples.tutorials.mnist import input_data\n",
    "# reproduceability\n",
    "tf.set_random_seed(777)\n",
    "mnist = input_data.read_data_sets('MNIST_data/',one_hot = True)\n"
   ]
  },
  {
   "cell_type": "code",
   "execution_count": 3,
   "metadata": {
    "collapsed": true
   },
   "outputs": [],
   "source": [
    "# input placeholder\n",
    "X = tf.placeholder(tf.float32, [None,784])\n",
    "Y = tf.placeholder(tf.float32,[None,10])"
   ]
  },
  {
   "cell_type": "code",
   "execution_count": 4,
   "metadata": {
    "collapsed": true
   },
   "outputs": [],
   "source": [
    "W = tf.Variable(tf.random_normal([784,10]))\n",
    "b = tf.Variable(tf.random_normal([10]))\n",
    "hypothesis = tf.matmul(X,W) + b"
   ]
  },
  {
   "cell_type": "code",
   "execution_count": 5,
   "metadata": {
    "collapsed": true
   },
   "outputs": [],
   "source": [
    "# define parameters\n",
    "\n",
    "learning_rate = 0.001\n",
    "batch_size = 100\n",
    "num_epochs = 50\n",
    "num_iterations = int(mnist.train.num_examples/batch_size)"
   ]
  },
  {
   "cell_type": "code",
   "execution_count": 6,
   "metadata": {
    "collapsed": true
   },
   "outputs": [],
   "source": [
    "# define cost/loss & optimizer"
   ]
  },
  {
   "cell_type": "code",
   "execution_count": 7,
   "metadata": {
    "collapsed": true
   },
   "outputs": [],
   "source": [
    "cost = tf.reduce_mean(tf.nn.softmax_cross_entropy_with_logits(logits=hypothesis, labels =Y))\n",
    "train = tf.train.AdamOptimizer(learning_rate = learning_rate).minimize(cost)"
   ]
  },
  {
   "cell_type": "code",
   "execution_count": 8,
   "metadata": {
    "collapsed": true
   },
   "outputs": [],
   "source": [
    "cost = tf.reduce_mean(\n",
    "        tf.nn.softmax_cross_entropy_with_logits(\n",
    "            logits = hypothesis, labels = tf.stop_gradient(Y)\n",
    "    )\n",
    ")"
   ]
  },
  {
   "cell_type": "code",
   "execution_count": 9,
   "metadata": {
    "collapsed": true
   },
   "outputs": [],
   "source": [
    "correct_prediction = tf.equal(tf.argmax(hypothesis,axis = 1), tf.argmax(Y, axis = 1))"
   ]
  },
  {
   "cell_type": "code",
   "execution_count": 10,
   "metadata": {
    "collapsed": true
   },
   "outputs": [],
   "source": [
    "accuracy = tf.reduce_mean(tf.cast(correct_prediction,tf.float32))"
   ]
  },
  {
   "cell_type": "code",
   "execution_count": 12,
   "metadata": {
    "collapsed": false
   },
   "outputs": [
    {
     "name": "stdout",
     "output_type": "stream",
     "text": [
      "Epoch: 0001 cost = 5.743060071\n",
      "Epoch: 0002 cost = 1.773943864\n",
      "Epoch: 0003 cost = 1.119321038\n",
      "Epoch: 0004 cost = 0.868712265\n",
      "Epoch: 0005 cost = 0.736231768\n",
      "Epoch: 0006 cost = 0.652670781\n",
      "Epoch: 0007 cost = 0.594188317\n",
      "Epoch: 0008 cost = 0.550967683\n",
      "Epoch: 0009 cost = 0.516835602\n",
      "Epoch: 0010 cost = 0.489964912\n",
      "Epoch: 0011 cost = 0.467128218\n",
      "Epoch: 0012 cost = 0.448298602\n",
      "Epoch: 0013 cost = 0.432575236\n",
      "Epoch: 0014 cost = 0.417959033\n",
      "Epoch: 0015 cost = 0.405480357\n",
      "Epoch: 0016 cost = 0.394785488\n",
      "Epoch: 0017 cost = 0.385329806\n",
      "Epoch: 0018 cost = 0.376084003\n",
      "Epoch: 0019 cost = 0.368119199\n",
      "Epoch: 0020 cost = 0.361015388\n",
      "Epoch: 0021 cost = 0.354496846\n",
      "Epoch: 0022 cost = 0.348092492\n",
      "Epoch: 0023 cost = 0.342500602\n",
      "Epoch: 0024 cost = 0.337264904\n",
      "Epoch: 0025 cost = 0.332164492\n",
      "Epoch: 0026 cost = 0.327897823\n",
      "Epoch: 0027 cost = 0.323723156\n",
      "Epoch: 0028 cost = 0.319248884\n",
      "Epoch: 0029 cost = 0.315582290\n",
      "Epoch: 0030 cost = 0.312147272\n",
      "Epoch: 0031 cost = 0.309228776\n",
      "Epoch: 0032 cost = 0.305559514\n",
      "Epoch: 0033 cost = 0.302600884\n",
      "Epoch: 0034 cost = 0.300022253\n",
      "Epoch: 0035 cost = 0.297138732\n",
      "Epoch: 0036 cost = 0.294461078\n",
      "Epoch: 0037 cost = 0.292577450\n",
      "Epoch: 0038 cost = 0.289750245\n",
      "Epoch: 0039 cost = 0.287941169\n",
      "Epoch: 0040 cost = 0.284938286\n",
      "Epoch: 0041 cost = 0.283750568\n",
      "Epoch: 0042 cost = 0.282085486\n",
      "Epoch: 0043 cost = 0.279926878\n",
      "Epoch: 0044 cost = 0.278170597\n",
      "Epoch: 0045 cost = 0.276369286\n",
      "Epoch: 0046 cost = 0.274539205\n",
      "Epoch: 0047 cost = 0.273366167\n",
      "Epoch: 0048 cost = 0.271711297\n",
      "Epoch: 0049 cost = 0.270217787\n",
      "Epoch: 0050 cost = 0.268990613\n",
      "learning finished\n",
      "accuracy 0.9206\n",
      "label: [6]\n",
      "prediction: [6]\n"
     ]
    },
    {
     "data": {
      "image/png": "[encoded data removed]",
      "text/plain": [
       "<matplotlib.figure.Figure at 0x243801566d8>"
      ]
     },
     "metadata": {
      "needs_background": "light"
     },
     "output_type": "display_data"
    }
   ],
   "source": [
    "with tf.Session() as sess:\n",
    "    sess.run(tf.global_variables_initializer())\n",
    "    \n",
    "    for epoch in range(num_epochs):\n",
    "        avg_cost = 0\n",
    "        \n",
    "        for iteration in range(num_iterations):\n",
    "            batch_xs,batch_ys = mnist.train.next_batch(batch_size)\n",
    "            _,cost_val = sess.run([train,cost],feed_dict = {X:batch_xs,Y:batch_ys})\n",
    "            avg_cost += cost_val/num_iterations\n",
    "        print('Epoch:','%04d' % (epoch +1), 'cost =', '{:.9f}'.format(avg_cost))\n",
    "    print('learning finished')\n",
    "    print(\n",
    "        'accuracy',sess.run(accuracy,feed_dict = {X:mnist.test.images,Y:mnist.test.labels}))\n",
    "    r = random.randint(0,mnist.test.num_examples -1)\n",
    "    print('label:',sess.run(tf.argmax(mnist.test.labels[r:r+1],axis = 1)))\n",
    "    print(\n",
    "    'prediction:',sess.run(tf.argmax(hypothesis,axis =1),feed_dict = {X:mnist.test.images[r:r+1]}))\n",
    "    plt.imshow(mnist.test.images[r:r+1].reshape(28,28),cmap ='Greys',interpolation='nearest')\n",
    "    plt.show()"
   ]
  },
  {
   "cell_type": "code",
   "execution_count": null,
   "metadata": {
    "collapsed": true
   },
   "outputs": [],
   "source": []
  }
 ],
 "metadata": {
  "kernelspec": {
   "display_name": "Python 3",
   "language": "python",
   "name": "python3"
  },
  "language_info": {
   "codemirror_mode": {
    "name": "ipython",
    "version": 3
   },
   "file_extension": ".py",
   "mimetype": "text/x-python",
   "name": "python",
   "nbconvert_exporter": "python",
   "pygments_lexer": "ipython3",
   "version": "3.5.2"
  }
 },
 "nbformat": 4,
 "nbformat_minor": 2
}
